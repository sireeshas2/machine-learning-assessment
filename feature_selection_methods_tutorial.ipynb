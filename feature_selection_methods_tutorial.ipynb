{
 "cells": [
  {
   "cell_type": "markdown",
   "id": "703d47ff",
   "metadata": {
    "id": "703d47ff"
   },
   "source": [
    "# Feature Selection Methods Tutorial\n",
    "This notebook demonstrates filter, wrapper, and embedded methods for feature selection using the Breast Cancer dataset."
   ]
  },
  {
   "cell_type": "markdown",
   "id": "8d7418b3",
   "metadata": {
    "id": "8d7418b3"
   },
   "source": [
    "## Step 1: Import Required Libraries"
   ]
  },
  {
   "cell_type": "code",
   "execution_count": 27,
   "id": "6497ca0a",
   "metadata": {
    "id": "6497ca0a"
   },
   "outputs": [],
   "source": [
    "import numpy as np\n",
    "import pandas as pd\n",
    "import matplotlib.pyplot as plt\n",
    "import seaborn as sns\n",
    "\n",
    "from sklearn.datasets import load_breast_cancer\n",
    "from sklearn.feature_selection import SelectKBest, chi2, f_classif, mutual_info_classif\n",
    "from sklearn.feature_selection import RFE\n",
    "from sklearn.linear_model import LogisticRegression, LassoCV\n",
    "from sklearn.ensemble import RandomForestClassifier\n",
    "from sklearn.model_selection import train_test_split\n",
    "from sklearn.preprocessing import StandardScaler\n",
    "from sklearn.metrics import accuracy_score\n"
   ]
  },
  {
   "cell_type": "markdown",
   "id": "94741626",
   "metadata": {
    "id": "94741626"
   },
   "source": [
    "## Step 2: Load and Prepare the Dataset"
   ]
  },
  {
   "cell_type": "code",
   "execution_count": 29,
   "id": "f00cd335",
   "metadata": {
    "colab": {
     "base_uri": "https://localhost:8080/"
    },
    "id": "f00cd335",
    "outputId": "dc00e0f0-48c5-4312-8740-e12b84bd0de9"
   },
   "outputs": [
    {
     "data": {
      "text/plain": [
       "((569, 30), (569,))"
      ]
     },
     "execution_count": 29,
     "metadata": {},
     "output_type": "execute_result"
    }
   ],
   "source": [
    "data = load_breast_cancer()\n",
    "X = pd.DataFrame(data.data, columns=data.feature_names)\n",
    "y = data.target\n",
    "X.shape, y.shape"
   ]
  },
  {
   "cell_type": "code",
   "execution_count": 31,
   "id": "8ae2cdbd",
   "metadata": {
    "id": "8ae2cdbd"
   },
   "outputs": [],
   "source": [
    "# Scale features for models sensitive to feature scale\n",
    "scaler = StandardScaler()\n",
    "X_scaled = scaler.fit_transform(X)"
   ]
  },
  {
   "cell_type": "markdown",
   "id": "89faaca1",
   "metadata": {
    "id": "89faaca1"
   },
   "source": [
    "## Step 3: Filter Method - SelectKBest (ANOVA F-test)"
   ]
  },
  {
   "cell_type": "code",
   "execution_count": 33,
   "id": "75302ced",
   "metadata": {
    "colab": {
     "base_uri": "https://localhost:8080/"
    },
    "id": "75302ced",
    "outputId": "799c0289-d559-465d-c0a5-7af82cb669c6"
   },
   "outputs": [
    {
     "name": "stdout",
     "output_type": "stream",
     "text": [
      "Selected Features (Filter - ANOVA F-test):\n",
      " ['mean radius', 'mean perimeter', 'mean area', 'mean concavity', 'mean concave points', 'worst radius', 'worst perimeter', 'worst area', 'worst concavity', 'worst concave points']\n"
     ]
    }
   ],
   "source": [
    "selector = SelectKBest(score_func=f_classif, k=10)\n",
    "X_new = selector.fit_transform(X_scaled, y)\n",
    "selected_features = X.columns[selector.get_support()]\n",
    "print(\"Selected Features (Filter - ANOVA F-test):\\n\", selected_features.tolist())"
   ]
  },
  {
   "cell_type": "markdown",
   "id": "92dd7959",
   "metadata": {
    "id": "92dd7959"
   },
   "source": [
    "## Step 4: Wrapper Method - Recursive Feature Elimination (RFE)"
   ]
  },
  {
   "cell_type": "code",
   "execution_count": 35,
   "id": "42c99418",
   "metadata": {
    "colab": {
     "base_uri": "https://localhost:8080/"
    },
    "id": "42c99418",
    "outputId": "216a94ac-f906-4106-ade8-993dd178e602"
   },
   "outputs": [
    {
     "name": "stdout",
     "output_type": "stream",
     "text": [
      "Selected Features (Wrapper - RFE):\n",
      " ['mean concave points', 'radius error', 'area error', 'compactness error', 'worst radius', 'worst texture', 'worst perimeter', 'worst area', 'worst concavity', 'worst concave points']\n"
     ]
    }
   ],
   "source": [
    "model = LogisticRegression(max_iter=10000)\n",
    "rfe = RFE(estimator=model, n_features_to_select=10)\n",
    "rfe.fit(X_scaled, y)\n",
    "selected_rfe_features = X.columns[rfe.support_]\n",
    "print(\"Selected Features (Wrapper - RFE):\\n\", selected_rfe_features.tolist())"
   ]
  },
  {
   "cell_type": "markdown",
   "id": "bc0d07bb",
   "metadata": {
    "id": "bc0d07bb"
   },
   "source": [
    "## Step 5: Embedded Method - Lasso Regularization"
   ]
  },
  {
   "cell_type": "code",
   "execution_count": 37,
   "id": "2cad0a6f",
   "metadata": {
    "colab": {
     "base_uri": "https://localhost:8080/"
    },
    "id": "2cad0a6f",
    "outputId": "35cb90e0-9190-4014-af70-c49692074464"
   },
   "outputs": [
    {
     "name": "stderr",
     "output_type": "stream",
     "text": [
      "C:\\Users\\siree\\anaconda3\\Lib\\site-packages\\sklearn\\linear_model\\_coordinate_descent.py:664: ConvergenceWarning: Objective did not converge. You might want to increase the number of iterations. Duality gap: 0.020023834778786664, tolerance: 0.009842637362637373\n",
      "  model = cd_fast.enet_coordinate_descent_gram(\n",
      "C:\\Users\\siree\\anaconda3\\Lib\\site-packages\\sklearn\\linear_model\\_coordinate_descent.py:664: ConvergenceWarning: Objective did not converge. You might want to increase the number of iterations. Duality gap: 0.0235293413077855, tolerance: 0.009842637362637373\n",
      "  model = cd_fast.enet_coordinate_descent_gram(\n",
      "C:\\Users\\siree\\anaconda3\\Lib\\site-packages\\sklearn\\linear_model\\_coordinate_descent.py:664: ConvergenceWarning: Objective did not converge. You might want to increase the number of iterations. Duality gap: 0.011313444424505548, tolerance: 0.009842637362637373\n",
      "  model = cd_fast.enet_coordinate_descent_gram(\n"
     ]
    },
    {
     "name": "stdout",
     "output_type": "stream",
     "text": [
      "Selected Features (Embedded - Lasso):\n",
      " ['mean texture', 'mean area', 'mean compactness', 'mean concavity', 'mean concave points', 'mean fractal dimension', 'radius error', 'texture error', 'perimeter error', 'area error', 'smoothness error', 'compactness error', 'concavity error', 'concave points error', 'symmetry error', 'fractal dimension error', 'worst radius', 'worst texture', 'worst area', 'worst smoothness', 'worst concavity', 'worst concave points', 'worst symmetry', 'worst fractal dimension']\n"
     ]
    }
   ],
   "source": [
    "lasso = LassoCV(cv=5, random_state=0)\n",
    "lasso.fit(X_scaled, y)\n",
    "coef = pd.Series(lasso.coef_, index=X.columns)\n",
    "selected_lasso_features = coef[coef != 0].index.tolist()\n",
    "print(\"Selected Features (Embedded - Lasso):\\n\", selected_lasso_features)"
   ]
  },
  {
   "cell_type": "markdown",
   "id": "0a7ed907",
   "metadata": {
    "id": "0a7ed907"
   },
   "source": [
    "## Step 6: Embedded Method - Random Forest Feature Importance"
   ]
  },
  {
   "cell_type": "code",
   "execution_count": 39,
   "id": "87d2f487",
   "metadata": {
    "colab": {
     "base_uri": "https://localhost:8080/"
    },
    "id": "87d2f487",
    "outputId": "a6c41993-23b0-4977-adb1-3517fdb483ef"
   },
   "outputs": [
    {
     "name": "stdout",
     "output_type": "stream",
     "text": [
      "Top Features (Embedded - Random Forest):\n",
      " ['worst perimeter', 'worst radius', 'worst concave points', 'mean concave points', 'worst area', 'mean concavity', 'mean perimeter', 'mean area', 'area error', 'worst concavity']\n"
     ]
    }
   ],
   "source": [
    "rf = RandomForestClassifier(random_state=0)\n",
    "rf.fit(X_scaled, y)\n",
    "importance = pd.Series(rf.feature_importances_, index=X.columns)\n",
    "top_rf_features = importance.sort_values(ascending=False).head(10).index.tolist()\n",
    "print(\"Top Features (Embedded - Random Forest):\\n\", top_rf_features)"
   ]
  },
  {
   "cell_type": "markdown",
   "id": "fbf9796d",
   "metadata": {
    "id": "fbf9796d"
   },
   "source": [
    "## Step 7: Visual Comparison of Feature Rankings"
   ]
  },
  {
   "cell_type": "code",
   "execution_count": 41,
   "id": "2dd8fee2",
   "metadata": {
    "colab": {
     "base_uri": "https://localhost:8080/",
     "height": 487
    },
    "id": "2dd8fee2",
    "outputId": "feed1894-2750-47d5-9809-e4a6906d3b4a"
   },
   "outputs": [
    {
     "data": {
      "image/png": "[encoded data removed]",
      "text/plain": [
       "<Figure size 1000x500 with 1 Axes>"
      ]
     },
     "metadata": {},
     "output_type": "display_data"
    }
   ],
   "source": [
    "plt.figure(figsize=(10, 5))\n",
    "importance.sort_values(ascending=True).tail(10).plot(kind='barh')\n",
    "plt.title(\"Top 10 Feature Importances from Random Forest\")\n",
    "plt.xlabel(\"Importance Score\")\n",
    "plt.grid(True)\n",
    "plt.show()"
   ]
  },
  {
   "cell_type": "code",
   "execution_count": null,
   "id": "a3d0be8e-79fd-4b06-b4e2-3c6d723860ac",
   "metadata": {},
   "outputs": [],
   "source": []
  }
 ],
 "metadata": {
  "colab": {
   "provenance": []
  },
  "kernelspec": {
   "display_name": "Python 3 (ipykernel)",
   "language": "python",
   "name": "python3"
  },
  "language_info": {
   "codemirror_mode": {
    "name": "ipython",
    "version": 3
   },
   "file_extension": ".py",
   "mimetype": "text/x-python",
   "name": "python",
   "nbconvert_exporter": "python",
   "pygments_lexer": "ipython3",
   "version": "3.12.4"
  }
 },
 "nbformat": 4,
 "nbformat_minor": 5
}
